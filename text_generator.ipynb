{
  "nbformat": 4,
  "nbformat_minor": 0,
  "metadata": {
    "colab": {
      "provenance": []
    },
    "kernelspec": {
      "name": "python3",
      "display_name": "Python 3"
    },
    "language_info": {
      "name": "python"
    }
  },
  "cells": [
    {
      "cell_type": "code",
      "execution_count": 9,
      "metadata": {
        "colab": {
          "base_uri": "https://localhost:8080/"
        },
        "id": "AkTuBbOURtyp",
        "outputId": "c3b402ee-d6c3-4c5d-fc2e-453ca48938a0"
      },
      "outputs": [
        {
          "output_type": "stream",
          "name": "stdout",
          "text": [
            "Generated Text:\n",
            "networks, reinforcement learning, and ethical AI practices.\n"
          ]
        }
      ],
      "source": [
        "import numpy as np\n",
        "import random\n",
        "\n",
        "# Sample text to train the Markov Chain (you can replace this with any text)\n",
        "text = \"\"\"\n",
        "Artificial Intelligence is the new electricity. It transforms industries, reshapes jobs, and powers innovations.\n",
        "The future lies in deep learning, computer vision, and natural language processing.\n",
        "Every AI enthusiast should explore neural networks, reinforcement learning, and ethical AI practices.\n",
        "\"\"\"\n",
        "\n",
        "# Splitting the text into words\n",
        "words = text.split()\n",
        "\n",
        "# Creating a dictionary for the Markov Chain\n",
        "markov_chain = {}\n",
        "\n",
        "# Building the chain\n",
        "for i in range(len(words) - 1):\n",
        "    word = words[i]\n",
        "    next_word = words[i + 1]\n",
        "    if word not in markov_chain:\n",
        "        markov_chain[word] = []\n",
        "    markov_chain[word].append(next_word)\n",
        "\n",
        "# Function to generate text using the Markov Chain\n",
        "def generate_text(chain, start_word, num_words=20):\n",
        "    current_word = start_word\n",
        "    result = [current_word]\n",
        "    for _ in range(num_words - 1):\n",
        "        if current_word not in chain or len(chain[current_word]) == 0:\n",
        "            break\n",
        "        next_word = random.choice(chain[current_word])\n",
        "        result.append(next_word)\n",
        "        current_word = next_word\n",
        "    return \" \".join(result)\n",
        "\n",
        "# Choosing a random start word\n",
        "start_word = random.choice(list(markov_chain.keys()))\n",
        "\n",
        "# Generating text\n",
        "generated_text = generate_text(markov_chain, start_word, num_words=30)\n",
        "\n",
        "# Displaying the generated text\n",
        "print(\"Generated Text:\")\n",
        "print(generated_text)\n"
      ]
    }
  ]
}